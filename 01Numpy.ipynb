{
  "nbformat": 4,
  "nbformat_minor": 0,
  "metadata": {
    "colab": {
      "provenance": []
    },
    "kernelspec": {
      "name": "python3",
      "display_name": "Python 3"
    },
    "language_info": {
      "name": "python"
    }
  },
  "cells": [
    {
      "cell_type": "markdown",
      "source": [
        "Introduction to the numpy\n",
        "\n",
        "Function covered:-\n",
        "\n",
        "1:-Array and its some operations\n",
        "\n",
        "2:-Matrix and its operations\n",
        "\n",
        "3:- Set operations\n",
        "\n",
        "4:- Dimension change in the arrays"
      ],
      "metadata": {
        "id": "q97Y9g7z6hYt"
      }
    },
    {
      "cell_type": "code",
      "execution_count": 1,
      "metadata": {
        "id": "Rvk76f8xrJyC"
      },
      "outputs": [],
      "source": [
        "import numpy as np"
      ]
    },
    {
      "cell_type": "code",
      "source": [
        "#creating an 1D array of 10  elements\n",
        "arr=np.array([1,2,3,4,5,6,7,8,9,10])\n",
        "arr#for showing the array"
      ],
      "metadata": {
        "colab": {
          "base_uri": "https://localhost:8080/"
        },
        "id": "1DqnGWdqskcZ",
        "outputId": "bb399b6c-b863-4a8f-8048-fb2159d367a4"
      },
      "execution_count": 2,
      "outputs": [
        {
          "output_type": "execute_result",
          "data": {
            "text/plain": [
              "array([ 1,  2,  3,  4,  5,  6,  7,  8,  9, 10])"
            ]
          },
          "metadata": {},
          "execution_count": 2
        }
      ]
    },
    {
      "cell_type": "code",
      "source": [
        "# creating 2d array\n",
        "arr2=np.array([[1,2,3],[4,5,6]])\n",
        "arr2"
      ],
      "metadata": {
        "colab": {
          "base_uri": "https://localhost:8080/"
        },
        "id": "cFNDkxYEtNjC",
        "outputId": "b33fc6a7-94c3-4cd4-d242-5433786b00f1"
      },
      "execution_count": 3,
      "outputs": [
        {
          "output_type": "execute_result",
          "data": {
            "text/plain": [
              "array([[1, 2, 3],\n",
              "       [4, 5, 6]])"
            ]
          },
          "metadata": {},
          "execution_count": 3
        }
      ]
    },
    {
      "cell_type": "code",
      "source": [
        "#creating 3d array\n",
        "arr3=np.array([[[1,2,3],[4,5,6]],[[7,8,9],[10,11,12]]])\n",
        "arr3"
      ],
      "metadata": {
        "colab": {
          "base_uri": "https://localhost:8080/"
        },
        "id": "R04YH2tFtSR0",
        "outputId": "d9d6e610-db5c-4584-c982-66cff01f8092"
      },
      "execution_count": 4,
      "outputs": [
        {
          "output_type": "execute_result",
          "data": {
            "text/plain": [
              "array([[[ 1,  2,  3],\n",
              "        [ 4,  5,  6]],\n",
              "\n",
              "       [[ 7,  8,  9],\n",
              "        [10, 11, 12]]])"
            ]
          },
          "metadata": {},
          "execution_count": 4
        }
      ]
    },
    {
      "cell_type": "code",
      "source": [
        "#there are different operations performed on an array using different functions\n",
        "#for checking the dimension of the array\n",
        "a1=arr.ndim\n",
        "a2=arr2.ndim\n",
        "a3=arr3.ndim\n",
        "print(a1,a2,a3)"
      ],
      "metadata": {
        "colab": {
          "base_uri": "https://localhost:8080/"
        },
        "id": "W7jIQCPWtZlw",
        "outputId": "2ce802be-b9f8-4300-c0f9-0a564f3eda64"
      },
      "execution_count": 5,
      "outputs": [
        {
          "output_type": "stream",
          "name": "stdout",
          "text": [
            "1 2 3\n"
          ]
        }
      ]
    },
    {
      "cell_type": "code",
      "source": [
        "#Indexing on the array:Indexing in NumPy arrays allows you to access\n",
        "#specific elements or subsets of elements within the array\n",
        "arr = np.array([1, 2, 3, 4, 5])\n",
        "\n",
        "first_element = arr[0]      # Access the first element (1)\n",
        "third_element = arr[2]      # Access the third element (3)\n",
        "last_element = arr[-1]      # Access the last element (5)\n",
        "print(first_element,third_element,last_element)\n",
        "#for accessing the last element reverse indexing is used"
      ],
      "metadata": {
        "colab": {
          "base_uri": "https://localhost:8080/"
        },
        "id": "9oYcI3JEt9PU",
        "outputId": "965ed6c3-ec52-473d-be5c-4ea074ae61b9"
      },
      "execution_count": 6,
      "outputs": [
        {
          "output_type": "stream",
          "name": "stdout",
          "text": [
            "1 3 5\n"
          ]
        }
      ]
    },
    {
      "cell_type": "code",
      "source": [
        "#for accessing the element from 2D array\n",
        "arr = np.array([[1, 2, 3], [4, 5, 6], [7, 8, 9]])\n",
        "\n",
        "element = arr[1, 2]  # Access the element in the second row and third column (6)\n",
        "print(element)"
      ],
      "metadata": {
        "colab": {
          "base_uri": "https://localhost:8080/"
        },
        "id": "LNd4MDh1uoAa",
        "outputId": "45d57fe1-68ed-4048-d90c-8da5b8d5de07"
      },
      "execution_count": 7,
      "outputs": [
        {
          "output_type": "stream",
          "name": "stdout",
          "text": [
            "6\n"
          ]
        }
      ]
    },
    {
      "cell_type": "code",
      "source": [
        "#for accessing from the 3D array\n",
        "arr = np.array([[[1, 2], [3, 4]], [[5, 6], [7, 8]], [[9, 10], [11, 12]]])\n",
        "\n",
        "element = arr[1, 0, 1]\n",
        "print(element)\n",
        "# Access the element in the second \"depth\",first row, and second column (6)"
      ],
      "metadata": {
        "colab": {
          "base_uri": "https://localhost:8080/"
        },
        "id": "MOMXi4vMvFEl",
        "outputId": "72dc0a8b-6f3c-4e2d-d557-6286e7a50a7d"
      },
      "execution_count": 8,
      "outputs": [
        {
          "output_type": "stream",
          "name": "stdout",
          "text": [
            "6\n"
          ]
        }
      ]
    },
    {
      "cell_type": "code",
      "source": [
        "#arange function:-The np.arange() function in NumPy is used to create arrays with regularly spaced values\n",
        "#syntax:- np.arange([start, ]stop, [step, ]dtype=None)\n",
        "arr = np.arange(5)#arranging 5 elements from 0\n",
        "print(arr)\n",
        "\n",
        "arr2 = np.arange(2, 10, 2)#arranging an array starting at 2, ending before 10, and with a step of 2\n",
        "print(arr2)\n",
        "\n",
        "arr3 = np.arange(0, 1, 0.2)#arranging the elemets 0 to 1 with gap of 0.2\n",
        "print(arr3)\n",
        "\n",
        "arr4 = np.arange(1, 6, dtype=float)#arranging and specifying data type\n",
        "print(arr4)"
      ],
      "metadata": {
        "colab": {
          "base_uri": "https://localhost:8080/"
        },
        "id": "cVG9ktTNwNER",
        "outputId": "67961877-fc06-4995-d86d-b66dc26c3ccc"
      },
      "execution_count": 9,
      "outputs": [
        {
          "output_type": "stream",
          "name": "stdout",
          "text": [
            "[0 1 2 3 4]\n",
            "[2 4 6 8]\n",
            "[0.  0.2 0.4 0.6 0.8]\n",
            "[1. 2. 3. 4. 5.]\n"
          ]
        }
      ]
    },
    {
      "cell_type": "code",
      "source": [
        "#slicing the array:-\n",
        "#Slicing is a powerful feature in NumPy that allows you to extract and manipulate specific portions of an array\n",
        "arr6=np.array([1,2,3,4,5,6,7,8,9,0])\n",
        "print(\"The array is:- \",arr6)\n",
        "\n",
        "## Extract elements from index 1 to 3 (inclusive of 1, exclusive of 3)\n",
        "subarray=arr6[1:3]\n",
        "print(\"The extacted element is:-\",subarray)\n"
      ],
      "metadata": {
        "colab": {
          "base_uri": "https://localhost:8080/"
        },
        "id": "noONgaZ4yVil",
        "outputId": "4b35f3d0-f728-482f-b2f0-dbfe0b4cadb8"
      },
      "execution_count": 10,
      "outputs": [
        {
          "output_type": "stream",
          "name": "stdout",
          "text": [
            "The array is:-  [1 2 3 4 5 6 7 8 9 0]\n",
            "The extacted element is:- [2 3]\n"
          ]
        }
      ]
    },
    {
      "cell_type": "code",
      "source": [
        "#2d array\n",
        "arr = np.array([[1, 2, 3], [4, 5, 6], [7, 8, 9]])\n",
        "print(\"the original array:-\")\n",
        "print(arr)\n",
        "\n",
        "# Extract the second row\n",
        "row = arr[1, :]\n",
        "print(\"Extacting the second row:-\")\n",
        "print(row)\n",
        "\n",
        "# Extract the first two columns\n",
        "columns = arr[:, 0:2]\n",
        "print(\"Extacting the first two columns row:-\")\n",
        "print(columns)"
      ],
      "metadata": {
        "colab": {
          "base_uri": "https://localhost:8080/"
        },
        "id": "c03c3Lnp0Sk8",
        "outputId": "ce2b1529-9255-4455-d6c3-393ff001dd26"
      },
      "execution_count": 11,
      "outputs": [
        {
          "output_type": "stream",
          "name": "stdout",
          "text": [
            "the original array:-\n",
            "[[1 2 3]\n",
            " [4 5 6]\n",
            " [7 8 9]]\n",
            "Extacting the second row:-\n",
            "[4 5 6]\n",
            "Extacting the first two columns row:-\n",
            "[[1 2]\n",
            " [4 5]\n",
            " [7 8]]\n"
          ]
        }
      ]
    },
    {
      "cell_type": "code",
      "source": [
        "arr=np.array([1,2,3,4,5,6,7,8,9,10])\n",
        "arr[-1::]# negative indexing"
      ],
      "metadata": {
        "colab": {
          "base_uri": "https://localhost:8080/"
        },
        "id": "WRJNVxgW05aI",
        "outputId": "d87b8764-b9bb-4b8d-85d9-dcbecfec3cf9"
      },
      "execution_count": 12,
      "outputs": [
        {
          "output_type": "execute_result",
          "data": {
            "text/plain": [
              "array([10])"
            ]
          },
          "metadata": {},
          "execution_count": 12
        }
      ]
    },
    {
      "cell_type": "code",
      "source": [
        "arr[-1:-5:-1]"
      ],
      "metadata": {
        "colab": {
          "base_uri": "https://localhost:8080/"
        },
        "id": "FN3XRuEM2SY6",
        "outputId": "75f6d3e1-29aa-4a76-bd7a-003e4337e3bf"
      },
      "execution_count": 13,
      "outputs": [
        {
          "output_type": "execute_result",
          "data": {
            "text/plain": [
              "array([10,  9,  8,  7])"
            ]
          },
          "metadata": {},
          "execution_count": 13
        }
      ]
    },
    {
      "cell_type": "code",
      "source": [
        "#linspace:-It  is a function in NumPy that is used to create an array of evenly spaced values over a specified range.\n",
        "#syntax=numpy.linspace(start, stop, num=50, endpoint=True, retstep=False, dtype=None)\n",
        "\n",
        "#Creating an array of 10 evenly spaced values between 0 and 1\n",
        "arr = np.linspace(0, 1, 10)\n",
        "print(\"01::-\",arr)\n",
        "\n",
        "#Creating an array of 5 evenly spaced values between 1 and 2 (exclusive of 2)\n",
        "arr2 = np.linspace(1, 2, 5, endpoint=False)\n",
        "print(\"02::-\",arr2)\n",
        "\n",
        "#Specifying the data type of the resulting array\n",
        "arr3 = np.linspace(1, 10, 5, dtype=int)\n",
        "print(\"03::-\",arr3)"
      ],
      "metadata": {
        "colab": {
          "base_uri": "https://localhost:8080/"
        },
        "id": "pEkwa1jj2kg2",
        "outputId": "2d1b9362-d7a5-45f5-b96b-850bda1c3349"
      },
      "execution_count": 14,
      "outputs": [
        {
          "output_type": "stream",
          "name": "stdout",
          "text": [
            "01::- [0.         0.11111111 0.22222222 0.33333333 0.44444444 0.55555556\n",
            " 0.66666667 0.77777778 0.88888889 1.        ]\n",
            "02::- [1.  1.2 1.4 1.6 1.8]\n",
            "03::- [ 1  3  5  7 10]\n"
          ]
        }
      ]
    },
    {
      "cell_type": "code",
      "source": [
        "#random function:-this module provides a variety of functions for generating random numbers and random arrays.\n",
        "#generate the random array of 2rows and three columns\n",
        "arr1=np.random.rand(2,3)\n",
        "print(arr1)\n",
        "#it will change the value if we run it as many times"
      ],
      "metadata": {
        "colab": {
          "base_uri": "https://localhost:8080/"
        },
        "id": "k4phui_J44WD",
        "outputId": "fe5954a8-1eef-4d01-ec30-da87b71f5fcc"
      },
      "execution_count": 15,
      "outputs": [
        {
          "output_type": "stream",
          "name": "stdout",
          "text": [
            "[[0.72510316 0.88553427 0.90678225]\n",
            " [0.99299422 0.25417937 0.72080459]]\n"
          ]
        }
      ]
    },
    {
      "cell_type": "code",
      "source": [
        "#for generating random 3 number from 1 to 10\n",
        "arr2=np.random.randint(1,10,3)\n",
        "print(arr2)"
      ],
      "metadata": {
        "colab": {
          "base_uri": "https://localhost:8080/"
        },
        "id": "jf5ktk2H59M_",
        "outputId": "08035934-8325-4308-da0a-a8f2a2c77e43"
      },
      "execution_count": 16,
      "outputs": [
        {
          "output_type": "stream",
          "name": "stdout",
          "text": [
            "[3 9 4]\n"
          ]
        }
      ]
    },
    {
      "cell_type": "code",
      "source": [],
      "metadata": {
        "id": "g5fsBDv868lk"
      },
      "execution_count": 16,
      "outputs": []
    },
    {
      "cell_type": "code",
      "source": [
        "#Generates a 3x4 array of random values from the standard normal distribution\n",
        "random_array = np.random.randn(3, 4)\n",
        "print(random_array)"
      ],
      "metadata": {
        "colab": {
          "base_uri": "https://localhost:8080/"
        },
        "id": "XwVgXv3d6WuE",
        "outputId": "c1b8d3dc-7812-4aaf-a5db-d28c13629735"
      },
      "execution_count": 17,
      "outputs": [
        {
          "output_type": "stream",
          "name": "stdout",
          "text": [
            "[[ 0.59287373 -0.01085901  0.45535529  1.66881232]\n",
            " [-0.90323481 -1.09674035 -0.34172977  0.55183224]\n",
            " [ 1.04756378  1.45493793  0.02393496 -0.986901  ]]\n"
          ]
        }
      ]
    },
    {
      "cell_type": "code",
      "source": [
        "# numpy.random.uniform():\n",
        "# Generates random values from a uniform distribution within a specified range:\n",
        "value = np.random.uniform(5, 10)  # Generates a random value between 5 and 10\n",
        "print(value)"
      ],
      "metadata": {
        "colab": {
          "base_uri": "https://localhost:8080/"
        },
        "id": "gv5OyZiP7cfp",
        "outputId": "25e94d3b-5039-489e-f353-4824ceede6a6"
      },
      "execution_count": 18,
      "outputs": [
        {
          "output_type": "stream",
          "name": "stdout",
          "text": [
            "8.519935114130135\n"
          ]
        }
      ]
    },
    {
      "cell_type": "code",
      "source": [
        "# numpy.random.choice():\n",
        "# Randomly selects elements from an input array:-\n",
        "array = np.array([1, 2, 3, 4, 5])\n",
        "choice1 = np.random.choice(array, size=3)\n",
        "print(choice1)\n",
        "# Randomly selects 3 elements from the array"
      ],
      "metadata": {
        "colab": {
          "base_uri": "https://localhost:8080/"
        },
        "id": "7XvDLIjy70Rq",
        "outputId": "7cb720ad-79a6-41ec-d0c5-7ce3ac7d23d4"
      },
      "execution_count": 19,
      "outputs": [
        {
          "output_type": "stream",
          "name": "stdout",
          "text": [
            "[4 3 5]\n"
          ]
        }
      ]
    },
    {
      "cell_type": "code",
      "source": [
        "# numpy.random.shuffle():\n",
        "# Shuffles the elements of an array in place:\n",
        "array = np.array([1, 2, 3, 4, 5])\n",
        "np.random.shuffle(array)  # Shuffles the order of elements in the array\n",
        "print(array)"
      ],
      "metadata": {
        "colab": {
          "base_uri": "https://localhost:8080/"
        },
        "id": "Yvo9_boo8B-U",
        "outputId": "cf432649-0e42-4661-97eb-65fc94ee2b44"
      },
      "execution_count": 20,
      "outputs": [
        {
          "output_type": "stream",
          "name": "stdout",
          "text": [
            "[2 4 5 3 1]\n"
          ]
        }
      ]
    },
    {
      "cell_type": "code",
      "source": [
        "# numpy.random.seed():\n",
        "# Sets the seed for the random number generator, allowing for reproducibility:\n",
        "np.random.seed(42)  # Set a seed value to generate the same random numbers in future runs\n",
        "random_array = np.random.rand(3)  # Generates random values using the specified seed\n",
        "print(random_array)"
      ],
      "metadata": {
        "colab": {
          "base_uri": "https://localhost:8080/"
        },
        "id": "0BsLS6jZ8kDo",
        "outputId": "88bf9730-eec5-4202-ec97-dd1d73ad838f"
      },
      "execution_count": 21,
      "outputs": [
        {
          "output_type": "stream",
          "name": "stdout",
          "text": [
            "[0.37454012 0.95071431 0.73199394]\n"
          ]
        }
      ]
    },
    {
      "cell_type": "code",
      "source": [
        "#logspace:-The numpy.logspace() function is useful for generating logarithmically spaced values,\n",
        "#which is commonly used in various applications, including plotting on logarithmic scales\n",
        "log_values = np.logspace(0, 1, 5)  # Generates 5 values from 10^0 to 10^1\n",
        "print(log_values)"
      ],
      "metadata": {
        "colab": {
          "base_uri": "https://localhost:8080/"
        },
        "id": "M-RvI4FE9Tcy",
        "outputId": "5e99a0b7-a138-4d6b-ffaf-b534c6c2455d"
      },
      "execution_count": 22,
      "outputs": [
        {
          "output_type": "stream",
          "name": "stdout",
          "text": [
            "[ 1.          1.77827941  3.16227766  5.62341325 10.        ]\n"
          ]
        }
      ]
    },
    {
      "cell_type": "code",
      "source": [
        "# sample:-numpy.random.sample() is used to generate random floats in the specified range and size, often used for simulations and random data generation.\n",
        "np.random.random_sample((2,3)) # Generates a 2x3 array of random floats"
      ],
      "metadata": {
        "colab": {
          "base_uri": "https://localhost:8080/"
        },
        "id": "5L6u-GAn9-Ah",
        "outputId": "2dcdf4c4-6d2e-45e8-f2a6-a051d715c6fa"
      },
      "execution_count": 23,
      "outputs": [
        {
          "output_type": "execute_result",
          "data": {
            "text/plain": [
              "array([[0.59865848, 0.15601864, 0.15599452],\n",
              "       [0.05808361, 0.86617615, 0.60111501]])"
            ]
          },
          "metadata": {},
          "execution_count": 23
        }
      ]
    },
    {
      "cell_type": "code",
      "source": [
        "#matrix\n",
        "#identity matrix:-In NumPy, you can create an identity matrix using the numpy.eye() function.\n",
        "\n",
        "# Create a 3x3 identity matrix\n",
        "identity_matrix = np.eye(3)\n",
        "print(\"identity matrix using eye function:-\")\n",
        "print(identity_matrix)\n",
        "\n",
        "identity_matrix2=np.identity(3)\n",
        "print()#used only for space\n",
        "print(\"Identity matrix using identity function:-\")\n",
        "print(identity_matrix2)"
      ],
      "metadata": {
        "id": "ZKuHe7jn-pUl",
        "colab": {
          "base_uri": "https://localhost:8080/"
        },
        "outputId": "5b4d4bae-d16d-493a-b5ab-3bddae8fed28"
      },
      "execution_count": 24,
      "outputs": [
        {
          "output_type": "stream",
          "name": "stdout",
          "text": [
            "identity matrix using eye function:-\n",
            "[[1. 0. 0.]\n",
            " [0. 1. 0.]\n",
            " [0. 0. 1.]]\n",
            "\n",
            "Identity matrix using identity function:-\n",
            "[[1. 0. 0.]\n",
            " [0. 1. 0.]\n",
            " [0. 0. 1.]]\n"
          ]
        }
      ]
    },
    {
      "cell_type": "code",
      "source": [
        "#linear matrix with 10 zeros\n",
        "zero_mat=np.zeros(10)\n",
        "print(zero_mat)"
      ],
      "metadata": {
        "colab": {
          "base_uri": "https://localhost:8080/"
        },
        "id": "ZmdfqjlLpxWA",
        "outputId": "e81bc64d-5b34-4185-ed62-b145930d0745"
      },
      "execution_count": 25,
      "outputs": [
        {
          "output_type": "stream",
          "name": "stdout",
          "text": [
            "[0. 0. 0. 0. 0. 0. 0. 0. 0. 0.]\n"
          ]
        }
      ]
    },
    {
      "cell_type": "code",
      "source": [
        "#matrix with 10 one's and int data type\n",
        "ones_mat=np.ones(10,dtype=int)\n",
        "print(ones_mat)"
      ],
      "metadata": {
        "colab": {
          "base_uri": "https://localhost:8080/"
        },
        "id": "xfK9aZyxq03c",
        "outputId": "8163eab1-2579-44a5-ad9a-32cd143135f1"
      },
      "execution_count": 26,
      "outputs": [
        {
          "output_type": "stream",
          "name": "stdout",
          "text": [
            "[1 1 1 1 1 1 1 1 1 1]\n"
          ]
        }
      ]
    },
    {
      "cell_type": "code",
      "source": [
        "#matrix using full() function\n",
        "#np.full() is a NumPy function that is used to create a new array filled with a specified constant value\n",
        "#synatax:-numpy.full(shape, fill_value, dtype=None)\n",
        "arr = np.full((3, 3), 5)\n",
        "print(arr)\n"
      ],
      "metadata": {
        "colab": {
          "base_uri": "https://localhost:8080/"
        },
        "id": "qorMn6NVrHLl",
        "outputId": "e50613c1-7675-4264-bdb4-08e5c93e195f"
      },
      "execution_count": 27,
      "outputs": [
        {
          "output_type": "stream",
          "name": "stdout",
          "text": [
            "[[5 5 5]\n",
            " [5 5 5]\n",
            " [5 5 5]]\n"
          ]
        }
      ]
    },
    {
      "cell_type": "code",
      "source": [
        "#full does not allow to repeat the elements\n",
        "np.full((2,3),((1,2,3),(4,5,6)))"
      ],
      "metadata": {
        "colab": {
          "base_uri": "https://localhost:8080/"
        },
        "id": "FdLHv7lGrtrR",
        "outputId": "ee294b26-9f28-490a-b6fb-47fdb853fc2a"
      },
      "execution_count": 28,
      "outputs": [
        {
          "output_type": "execute_result",
          "data": {
            "text/plain": [
              "array([[1, 2, 3],\n",
              "       [4, 5, 6]])"
            ]
          },
          "metadata": {},
          "execution_count": 28
        }
      ]
    },
    {
      "cell_type": "code",
      "source": [
        "#array operations\n",
        "arr=np.array([10, 11, 12, 13, 14, 15, 16, 17, 18, 19, 20])\n",
        "print(arr)"
      ],
      "metadata": {
        "colab": {
          "base_uri": "https://localhost:8080/"
        },
        "id": "HI4AWQ98sK0o",
        "outputId": "802d7af1-9b34-468e-8384-a8dbda45fbca"
      },
      "execution_count": 29,
      "outputs": [
        {
          "output_type": "stream",
          "name": "stdout",
          "text": [
            "[10 11 12 13 14 15 16 17 18 19 20]\n"
          ]
        }
      ]
    },
    {
      "cell_type": "code",
      "source": [
        "#calculating mean, median, mode,st deviation\n",
        "print(\"mean\")\n",
        "a=arr.mean()\n",
        "print(a)\n",
        "\n",
        "#median\n",
        "print(\"median\")\n",
        "a1=np.median(arr)\n",
        "print(a1)\n",
        "\n",
        "#mode\n",
        "import scipy.stats as st\n",
        "print(\"mode\")\n",
        "a3=st.mode(arr)\n",
        "print(a3\n",
        "      )\n",
        "#std\n",
        "print(\"standard deviation\")\n",
        "a4=arr.std()\n",
        "print(a4)"
      ],
      "metadata": {
        "colab": {
          "base_uri": "https://localhost:8080/"
        },
        "id": "wN0FoLBasrs9",
        "outputId": "0a827372-7468-4898-88af-08d45f88f74b"
      },
      "execution_count": 30,
      "outputs": [
        {
          "output_type": "stream",
          "name": "stdout",
          "text": [
            "mean\n",
            "15.0\n",
            "median\n",
            "15.0\n",
            "mode\n",
            "ModeResult(mode=10, count=1)\n",
            "standard deviation\n",
            "3.1622776601683795\n"
          ]
        }
      ]
    },
    {
      "cell_type": "code",
      "source": [
        "#reshape function:- used to reshape the array in another array form\n",
        "# Create a 1D array with 12 elements\n",
        "original_array = np.arange(12)\n",
        "print(\"Original array\")\n",
        "print(original_array)\n",
        "\n",
        "# Reshape the array into a 3x4 2D array\n",
        "reshaped_array = original_array.reshape(3, 4)\n",
        "print()\n",
        "print('reshaped_array')\n",
        "print(reshaped_array)"
      ],
      "metadata": {
        "colab": {
          "base_uri": "https://localhost:8080/"
        },
        "id": "uEm6BToTuBxd",
        "outputId": "70cdaf1f-3b42-4914-8d70-ac6d608f95e5"
      },
      "execution_count": 31,
      "outputs": [
        {
          "output_type": "stream",
          "name": "stdout",
          "text": [
            "Original array\n",
            "[ 0  1  2  3  4  5  6  7  8  9 10 11]\n",
            "\n",
            "reshaped_array\n",
            "[[ 0  1  2  3]\n",
            " [ 4  5  6  7]\n",
            " [ 8  9 10 11]]\n"
          ]
        }
      ]
    },
    {
      "cell_type": "code",
      "source": [
        "#argmin and argmax:-numpy.argmin() and numpy.argmax() to find the indices of the minimum and maximum values in an array, respectively.\n",
        "arr = np.array([3, 1, 4, 1, 5, 9, 2, 6, 5, 3])\n",
        "\n",
        "# Find the index of the minimum value\n",
        "index_of_min = np.argmin(arr)\n",
        "print(\"the index of the minimum value\")\n",
        "print(index_of_min)#index is starting from 0\n",
        "\n",
        "# Find the index of the maximum value\n",
        "index_of_max = np.argmax(arr)\n",
        "print(\"the index of the maximum value\")\n",
        "print(index_of_max)"
      ],
      "metadata": {
        "colab": {
          "base_uri": "https://localhost:8080/"
        },
        "id": "sH9tALhiutKi",
        "outputId": "fca26900-845a-45e1-81d4-9ca7b9608d21"
      },
      "execution_count": 32,
      "outputs": [
        {
          "output_type": "stream",
          "name": "stdout",
          "text": [
            "the index of the minimum value\n",
            "1\n",
            "the index of the maximum value\n",
            "5\n"
          ]
        }
      ]
    },
    {
      "cell_type": "code",
      "source": [
        "#sorting the array\n",
        "arr = np.array([3, 1, 4, 1, 5, 9, 2, 6, 5, 3])\n",
        "\n",
        "# Sort the array in ascending order\n",
        "sorted_arr = np.sort(arr)\n",
        "print(\"Sorted array in ascending order:\", sorted_arr)"
      ],
      "metadata": {
        "colab": {
          "base_uri": "https://localhost:8080/"
        },
        "id": "bAL_1CxXvrRo",
        "outputId": "117da3f5-4a0a-43b3-f4d6-1eaf1925a7ed"
      },
      "execution_count": 33,
      "outputs": [
        {
          "output_type": "stream",
          "name": "stdout",
          "text": [
            "Sorted array in ascending order: [1 1 2 3 3 4 5 5 6 9]\n"
          ]
        }
      ]
    },
    {
      "cell_type": "code",
      "source": [
        "#sorting acoording to the idexes\n",
        "arr = np.array([3, 1, 4, 1, 5, 9, 2, 6, 5, 3])\n",
        "\n",
        "# Get the indices that would sort the array\n",
        "indices = np.argsort(arr)\n",
        "print(\"Indices for sorting:\", indices)"
      ],
      "metadata": {
        "colab": {
          "base_uri": "https://localhost:8080/"
        },
        "id": "ghhdDAlywUvR",
        "outputId": "809ab900-67c1-464e-e6c7-877f617a7303"
      },
      "execution_count": 34,
      "outputs": [
        {
          "output_type": "stream",
          "name": "stdout",
          "text": [
            "Indices for sorting: [1 3 6 0 9 2 4 8 7 5]\n"
          ]
        }
      ]
    },
    {
      "cell_type": "code",
      "source": [
        "#sorting based on the key values\n",
        "names = np.array([\"John\", \"Alice\", \"Bob\", \"Eve\"])\n",
        "scores = np.array([85, 90, 75, 95])#key values\n",
        "\n",
        "# Sort the names based on scores\n",
        "indices = np.lexsort((names, scores))\n",
        "sorted_names = names[indices]\n",
        "sorted_scores = scores[indices]\n",
        "print(\"Sorted names:\", sorted_names)\n",
        "print(\"Sorted scores:\", sorted_scores)"
      ],
      "metadata": {
        "colab": {
          "base_uri": "https://localhost:8080/"
        },
        "id": "GFnrixMQwmQO",
        "outputId": "3f1574b7-adff-4065-b73c-903c933df26b"
      },
      "execution_count": 35,
      "outputs": [
        {
          "output_type": "stream",
          "name": "stdout",
          "text": [
            "Sorted names: ['Bob' 'John' 'Alice' 'Eve']\n",
            "Sorted scores: [75 85 90 95]\n"
          ]
        }
      ]
    },
    {
      "cell_type": "code",
      "source": [
        "#sorting to according to row and column\n",
        "arr = np.array([[3, 1, 4], [1, 5, 9], [2, 6, 5]])\n",
        "\n",
        "# Sort the array by rows (axis=1)\n",
        "sorted_by_rows = np.sort(arr, axis=1)\n",
        "print(\"Sorted by rows:\", sorted_by_rows)\n",
        "\n",
        "# Sort the array by columns (axis=0)\n",
        "sorted_by_columns = np.sort(arr, axis=0)\n",
        "print(\"Sorted by columns:\", sorted_by_columns)"
      ],
      "metadata": {
        "colab": {
          "base_uri": "https://localhost:8080/"
        },
        "id": "ccWbrMITxD8n",
        "outputId": "086b37bc-44a4-461c-d02c-0e637707db95"
      },
      "execution_count": 36,
      "outputs": [
        {
          "output_type": "stream",
          "name": "stdout",
          "text": [
            "Sorted by rows: [[1 3 4]\n",
            " [1 5 9]\n",
            " [2 5 6]]\n",
            "Sorted by columns: [[1 1 4]\n",
            " [2 5 5]\n",
            " [3 6 9]]\n"
          ]
        }
      ]
    },
    {
      "cell_type": "code",
      "source": [
        "#sorting based on the indexes\n",
        "arr = np.array([[3, 1, 4], [1, 5, 9], [2, 6, 5]])\n",
        "\n",
        "# Get the indices that would sort by rows (axis=1)\n",
        "indices_by_rows = np.argsort(arr, axis=1)\n",
        "print(\"Indices for sorting by rows:\", indices_by_rows)\n",
        "\n",
        "# Get the indices that would sort by columns (axis=0)\n",
        "indices_by_columns = np.argsort(arr, axis=0)\n",
        "print(\"Indices for sorting by columns:\", indices_by_columns)"
      ],
      "metadata": {
        "colab": {
          "base_uri": "https://localhost:8080/"
        },
        "id": "hJSKB2-1x5xG",
        "outputId": "3c112307-d45c-4c4b-e769-45b98d40c04d"
      },
      "execution_count": 37,
      "outputs": [
        {
          "output_type": "stream",
          "name": "stdout",
          "text": [
            "Indices for sorting by rows: [[1 0 2]\n",
            " [0 1 2]\n",
            " [0 2 1]]\n",
            "Indices for sorting by columns: [[1 0 0]\n",
            " [2 1 2]\n",
            " [0 2 1]]\n"
          ]
        }
      ]
    },
    {
      "cell_type": "code",
      "source": [
        "#rounding the elements\n",
        "arr4=np.random.rand(3,3)\n",
        "arr4.round(2)"
      ],
      "metadata": {
        "colab": {
          "base_uri": "https://localhost:8080/"
        },
        "id": "sczIwxMByIw6",
        "outputId": "97f04059-f2b5-40ef-dbbf-c1789be527cc"
      },
      "execution_count": 38,
      "outputs": [
        {
          "output_type": "execute_result",
          "data": {
            "text/plain": [
              "array([[0.71, 0.02, 0.97],\n",
              "       [0.83, 0.21, 0.18],\n",
              "       [0.18, 0.3 , 0.52]])"
            ]
          },
          "metadata": {},
          "execution_count": 38
        }
      ]
    },
    {
      "cell_type": "code",
      "source": [
        "#clipping:-numpy.clip() function to limit or \"clip\" the values of an array within a specified range. This function ensures that values in the array do not fall below a minimum value or exceed a maximum value.\n",
        "#syntax:-numpy.clip(a, a_min, a_max, out=None)\n",
        "arr = np.array([1, 5, 8, 10, 2, 3, 6])\n",
        "clipped_arr = np.clip(arr, a_min=3, a_max=8)\n",
        "#limiting the array min to 3 and max to 8\n",
        "\n",
        "print(clipped_arr)"
      ],
      "metadata": {
        "colab": {
          "base_uri": "https://localhost:8080/"
        },
        "id": "Ir9Higiqygj5",
        "outputId": "92766b23-ea97-4f16-9244-5043862a3bfe"
      },
      "execution_count": 39,
      "outputs": [
        {
          "output_type": "stream",
          "name": "stdout",
          "text": [
            "[3 5 8 8 3 3 6]\n"
          ]
        }
      ]
    },
    {
      "cell_type": "code",
      "source": [
        "x=np.random.randint(1,20,10)\n",
        "print(x)\n",
        "x.clip(13,15)"
      ],
      "metadata": {
        "colab": {
          "base_uri": "https://localhost:8080/"
        },
        "id": "smDeZtvQzDpc",
        "outputId": "84343355-2248-49c2-81e6-3dcc3a3b64a8"
      },
      "execution_count": 40,
      "outputs": [
        {
          "output_type": "stream",
          "name": "stdout",
          "text": [
            "[12 17 10 16 15 15 19 12  3  5]\n"
          ]
        },
        {
          "output_type": "execute_result",
          "data": {
            "text/plain": [
              "array([13, 15, 13, 15, 15, 15, 15, 13, 13, 13])"
            ]
          },
          "metadata": {},
          "execution_count": 40
        }
      ]
    },
    {
      "cell_type": "code",
      "source": [
        "#where:-This function can be used to return elements from one of two input arrays based on a specified condition.\n",
        "condition = np.array([True, False, True])\n",
        "#In this example, result will contain [1, 20, 3] because the condition is True for the first and third elements, so it selects values from arr1 and arr2 accordingly.\n",
        "arr1 = np.array([1, 2, 3])\n",
        "arr2 = np.array([10, 20, 30])\n",
        "\n",
        "result = np.where(condition, arr1, arr2)\n",
        "print(result)"
      ],
      "metadata": {
        "id": "mxLOF8HbzMsS",
        "colab": {
          "base_uri": "https://localhost:8080/"
        },
        "outputId": "fadb7e56-2843-4153-e6b7-237cc501407f"
      },
      "execution_count": 41,
      "outputs": [
        {
          "output_type": "stream",
          "name": "stdout",
          "text": [
            "[ 1 20  3]\n"
          ]
        }
      ]
    },
    {
      "cell_type": "code",
      "source": [
        "#numpy.argwhere():\n",
        "\n",
        "#This function returns the indices of elements that satisfy a given condition.\n",
        "\n",
        "\n",
        "arr = np.array([1, 2, 3, 4, 5])\n",
        "indices = np.argwhere(arr > 2)\n",
        "print(indices)"
      ],
      "metadata": {
        "colab": {
          "base_uri": "https://localhost:8080/"
        },
        "id": "RZ1UkOXG7sEC",
        "outputId": "21ea6813-c627-4f34-8410-7c79862f97a8"
      },
      "execution_count": 42,
      "outputs": [
        {
          "output_type": "stream",
          "name": "stdout",
          "text": [
            "[[2]\n",
            " [3]\n",
            " [4]]\n"
          ]
        }
      ]
    },
    {
      "cell_type": "code",
      "source": [
        "arr=np.random.randint(1,30,20)\n",
        "arr"
      ],
      "metadata": {
        "colab": {
          "base_uri": "https://localhost:8080/"
        },
        "id": "OKCRLOwz74fr",
        "outputId": "c6ed6db9-b5fd-43cb-9af0-f2482536a3c1"
      },
      "execution_count": 43,
      "outputs": [
        {
          "output_type": "execute_result",
          "data": {
            "text/plain": [
              "array([19,  7, 21,  9,  7, 18,  4, 25, 28, 14, 18, 26,  9, 26, 21,  2, 20,\n",
              "       28, 15, 28])"
            ]
          },
          "metadata": {},
          "execution_count": 43
        }
      ]
    },
    {
      "cell_type": "code",
      "source": [
        "np.where(arr>20,0,arr)#the which is gretaer then 20 will be replaced by 0 and rest will be same"
      ],
      "metadata": {
        "colab": {
          "base_uri": "https://localhost:8080/"
        },
        "id": "GBJbHa6t8CSN",
        "outputId": "098c9cd9-ffe7-4c59-a7e6-2843f130d214"
      },
      "execution_count": 44,
      "outputs": [
        {
          "output_type": "execute_result",
          "data": {
            "text/plain": [
              "array([19,  7,  0,  9,  7, 18,  4,  0,  0, 14, 18,  0,  9,  0,  0,  2, 20,\n",
              "        0, 15,  0])"
            ]
          },
          "metadata": {},
          "execution_count": 44
        }
      ]
    },
    {
      "cell_type": "code",
      "source": [
        "np.where(arr>20,0,1) #np.where(condition,true,false) printing 0 if value is>20 and for rest 1"
      ],
      "metadata": {
        "colab": {
          "base_uri": "https://localhost:8080/"
        },
        "id": "Aq4Kp9JT8LIB",
        "outputId": "5db0aac0-73a0-4fde-c441-420287b2abea"
      },
      "execution_count": 45,
      "outputs": [
        {
          "output_type": "execute_result",
          "data": {
            "text/plain": [
              "array([1, 1, 0, 1, 1, 1, 1, 0, 0, 1, 1, 0, 1, 0, 0, 1, 1, 0, 1, 0])"
            ]
          },
          "metadata": {},
          "execution_count": 45
        }
      ]
    },
    {
      "cell_type": "code",
      "source": [
        "#set operations\n",
        "arr1=np.random.randint(1,20,10)\n",
        "arr2=np.random.randint(1,20,10)\n",
        "print(arr1,\"\\n\",arr2)"
      ],
      "metadata": {
        "colab": {
          "base_uri": "https://localhost:8080/"
        },
        "id": "gboRirLq8ajd",
        "outputId": "69bc5445-3816-4767-b0e2-f4562996e82e"
      },
      "execution_count": 46,
      "outputs": [
        {
          "output_type": "stream",
          "name": "stdout",
          "text": [
            "[ 7 12  8 15  3 14 17  4 18  8] \n",
            " [ 4  2  6 10  4 18 12  2 10  4]\n"
          ]
        }
      ]
    },
    {
      "cell_type": "code",
      "source": [
        "#insertion:- getting the common elements from both the array above\n",
        "np.intersect1d(arr1,arr2)"
      ],
      "metadata": {
        "colab": {
          "base_uri": "https://localhost:8080/"
        },
        "id": "vr4j_CaJ8xxm",
        "outputId": "c827fd98-3009-4746-80f6-d458717752e3"
      },
      "execution_count": 47,
      "outputs": [
        {
          "output_type": "execute_result",
          "data": {
            "text/plain": [
              "array([ 4, 12, 18])"
            ]
          },
          "metadata": {},
          "execution_count": 47
        }
      ]
    },
    {
      "cell_type": "code",
      "source": [
        "#setdifference:-The numpy.setdiff1d() function in NumPy is used to find the set difference between two arrays, which means it returns the values that are present in the first array but not in the second array.\n",
        "arr1 = np.array([1, 2, 3, 4, 5])\n",
        "arr2 = np.array([3, 4, 5, 6, 7])\n",
        "\n",
        "result = np.setdiff1d(arr1, arr2)\n",
        "\n",
        "print(result)"
      ],
      "metadata": {
        "colab": {
          "base_uri": "https://localhost:8080/"
        },
        "id": "RzNwG2DM84V8",
        "outputId": "6550bc7f-c624-4c45-d738-3f32e196c107"
      },
      "execution_count": 48,
      "outputs": [
        {
          "output_type": "stream",
          "name": "stdout",
          "text": [
            "[1 2]\n"
          ]
        }
      ]
    },
    {
      "cell_type": "code",
      "source": [
        "np.setdiff1d(arr2,arr1)#value in array 2 but not in 1"
      ],
      "metadata": {
        "colab": {
          "base_uri": "https://localhost:8080/"
        },
        "id": "RYCgv87r9L1y",
        "outputId": "d9dc396e-5c27-4745-c4d1-082dc7e50dee"
      },
      "execution_count": 49,
      "outputs": [
        {
          "output_type": "execute_result",
          "data": {
            "text/plain": [
              "array([6, 7])"
            ]
          },
          "metadata": {},
          "execution_count": 49
        }
      ]
    },
    {
      "cell_type": "code",
      "source": [
        "#union\n",
        "np.union1d(arr2,arr1)"
      ],
      "metadata": {
        "colab": {
          "base_uri": "https://localhost:8080/"
        },
        "id": "g7aorldH9Tde",
        "outputId": "96c5535e-56a2-4ede-a158-4f14796793f4"
      },
      "execution_count": 50,
      "outputs": [
        {
          "output_type": "execute_result",
          "data": {
            "text/plain": [
              "array([1, 2, 3, 4, 5, 6, 7])"
            ]
          },
          "metadata": {},
          "execution_count": 50
        }
      ]
    },
    {
      "cell_type": "code",
      "source": [
        "#setxor1d:- it returns values that are unique to each of the two arrays.\n",
        "arr1 = np.array([1, 2, 3, 4, 5])\n",
        "arr2 = np.array([3, 4, 5, 6, 7])\n",
        "\n",
        "result = np.setxor1d(arr1, arr2)\n",
        "\n",
        "print(result)"
      ],
      "metadata": {
        "colab": {
          "base_uri": "https://localhost:8080/"
        },
        "id": "nAAdRbtT9W4r",
        "outputId": "c4b8db11-c99b-4731-c75f-890cd8ec1a87"
      },
      "execution_count": 51,
      "outputs": [
        {
          "output_type": "stream",
          "name": "stdout",
          "text": [
            "[1 2 6 7]\n"
          ]
        }
      ]
    },
    {
      "cell_type": "code",
      "source": [
        "#Dimension changing\n",
        "#reshape:-numpy.reshape() function, which allows you to change the shape of an existing array while keeping the same data.\n",
        "\n",
        "# Create a 1D array with 12 elements\n",
        "original_array = np.arange(12)\n",
        "\n",
        "# Reshape the array into a 3x4 2D array\n",
        "reshaped_array = original_array.reshape(3, 4)\n",
        "\n",
        "print(reshaped_array)"
      ],
      "metadata": {
        "colab": {
          "base_uri": "https://localhost:8080/"
        },
        "id": "1g-bw19P904J",
        "outputId": "69142474-2bae-483b-c0c7-903134f77be2"
      },
      "execution_count": 52,
      "outputs": [
        {
          "output_type": "stream",
          "name": "stdout",
          "text": [
            "[[ 0  1  2  3]\n",
            " [ 4  5  6  7]\n",
            " [ 8  9 10 11]]\n"
          ]
        }
      ]
    },
    {
      "cell_type": "code",
      "source": [
        "#Transpose:-(.T) attribute to transpose a 2D array, which effectively switches the rows and columns.\n",
        "\n",
        "# Create a 2D array\n",
        "arr = np.array([[1, 2, 3],\n",
        "                [4, 5, 6]])\n",
        "\n",
        "# Transpose the array\n",
        "transposed_arr = arr.T\n",
        "\n",
        "print(transposed_arr)"
      ],
      "metadata": {
        "colab": {
          "base_uri": "https://localhost:8080/"
        },
        "id": "Decc3Q7_-PW5",
        "outputId": "e2160665-9ba1-4a6b-f479-a0054f0d32e3"
      },
      "execution_count": 53,
      "outputs": [
        {
          "output_type": "stream",
          "name": "stdout",
          "text": [
            "[[1 4]\n",
            " [2 5]\n",
            " [3 6]]\n"
          ]
        }
      ]
    },
    {
      "cell_type": "code",
      "source": [
        "arr.transpose()"
      ],
      "metadata": {
        "colab": {
          "base_uri": "https://localhost:8080/"
        },
        "id": "uobBxrT6-0Fl",
        "outputId": "34782be2-7f26-4c3b-8627-eea5ab510582"
      },
      "execution_count": 54,
      "outputs": [
        {
          "output_type": "execute_result",
          "data": {
            "text/plain": [
              "array([[1, 4],\n",
              "       [2, 5],\n",
              "       [3, 6]])"
            ]
          },
          "metadata": {},
          "execution_count": 54
        }
      ]
    },
    {
      "cell_type": "code",
      "source": [
        "#flatten and ravel:-.flatten() and .ravel(), can be handy when you need to convert multi-dimensional arrays into a 1D format for various data processing and analysis tasks.\n",
        "# Create a 2D array\n",
        "arr_2d = np.array([[1, 2, 3],\n",
        "                   [4, 5, 6]])\n",
        "\n",
        "# Flatten the array\n",
        "arr_1d = arr_2d.flatten()\n",
        "\n",
        "print(arr_1d)"
      ],
      "metadata": {
        "colab": {
          "base_uri": "https://localhost:8080/"
        },
        "id": "16ataaYO--gp",
        "outputId": "52bfe735-ae62-433b-ddcb-da816473b055"
      },
      "execution_count": 55,
      "outputs": [
        {
          "output_type": "stream",
          "name": "stdout",
          "text": [
            "[1 2 3 4 5 6]\n"
          ]
        }
      ]
    },
    {
      "cell_type": "code",
      "source": [
        "#ravel()\n",
        "arr_2d = np.array([[1, 2, 3],\n",
        "                   [4, 5, 6]])\n",
        "\n",
        "arr_1d = arr_2d.ravel()\n",
        "\n",
        "print(arr_1d)"
      ],
      "metadata": {
        "colab": {
          "base_uri": "https://localhost:8080/"
        },
        "id": "q-GkKV6t_QTh",
        "outputId": "8c146592-b7b3-4ea1-9b5f-45f3090a4cf5"
      },
      "execution_count": 56,
      "outputs": [
        {
          "output_type": "stream",
          "name": "stdout",
          "text": [
            "[1 2 3 4 5 6]\n"
          ]
        }
      ]
    },
    {
      "cell_type": "code",
      "source": [
        "#flatting using for loop\n",
        "for i in arr.flat:\n",
        "    print(i,end=' ')"
      ],
      "metadata": {
        "colab": {
          "base_uri": "https://localhost:8080/"
        },
        "id": "3uscwPfX_UYv",
        "outputId": "76d02c83-1f63-4c38-a9ed-7bcef4d7e781"
      },
      "execution_count": 57,
      "outputs": [
        {
          "output_type": "stream",
          "name": "stdout",
          "text": [
            "1 2 3 4 5 6 "
          ]
        }
      ]
    },
    {
      "cell_type": "code",
      "source": [
        "#size of the array:-.size attribute to determine the number of elements in the array.\n",
        "\n",
        "# Assuming \"zrrzy\" is a NumPy array\n",
        "arr1 = np.array([1, 2, 3, 4, 5, 6])\n",
        "\n",
        "# Get the size (number of elements) of the array\n",
        "array_size = arr1.size\n",
        "\n",
        "print(\"Size of the 'arr1' array:\", array_size)"
      ],
      "metadata": {
        "colab": {
          "base_uri": "https://localhost:8080/"
        },
        "id": "KNAmrveK_dNC",
        "outputId": "62d7a67c-9b10-4f4c-9783-1cb90c6bd87f"
      },
      "execution_count": 58,
      "outputs": [
        {
          "output_type": "stream",
          "name": "stdout",
          "text": [
            "Size of the 'arr1' array: 6\n"
          ]
        }
      ]
    },
    {
      "cell_type": "code",
      "source": [
        "#itemsize:-itemsize attribute in NumPy is used to determine the size (in bytes) of each element in a NumPy array.\n",
        "\n",
        "# Create a NumPy array\n",
        "arr = np.array([1, 2, 3], dtype=np.float32)\n",
        "\n",
        "# Get the item size\n",
        "element_size = arr.itemsize\n",
        "\n",
        "print(\"Size of each element in the array:\", element_size, \"bytes\")"
      ],
      "metadata": {
        "colab": {
          "base_uri": "https://localhost:8080/"
        },
        "id": "bl-t_gED_552",
        "outputId": "8a802406-27c2-4c22-84f9-f31f6154cc35"
      },
      "execution_count": 59,
      "outputs": [
        {
          "output_type": "stream",
          "name": "stdout",
          "text": [
            "Size of each element in the array: 4 bytes\n"
          ]
        }
      ]
    },
    {
      "cell_type": "code",
      "source": [
        "#nbytes:-nbytes attribute in NumPy is used to determine the total memory usage (in bytes) of a NumPy array, considering the size and data type of the array's elements. It provides the complete memory consumption of the array.\n",
        "# Create a NumPy array\n",
        "arr = np.array([1, 2, 3], dtype=np.float32)\n",
        "\n",
        "# Get the total memory usage of the array\n",
        "total_memory_usage = arr.nbytes\n",
        "\n",
        "print(\"Total memory usage of the array:\", total_memory_usage, \"bytes\")"
      ],
      "metadata": {
        "colab": {
          "base_uri": "https://localhost:8080/"
        },
        "id": "ME3DOQyBAZ_U",
        "outputId": "0374262d-8102-4198-fb9f-c70792f39703"
      },
      "execution_count": 60,
      "outputs": [
        {
          "output_type": "stream",
          "name": "stdout",
          "text": [
            "Total memory usage of the array: 12 bytes\n"
          ]
        }
      ]
    },
    {
      "cell_type": "code",
      "source": [
        "#numpy.zeros_like():- It is a function creates a new array with the same shape as the input array, filled with zeros.\n",
        "\n",
        "# Create an example array\n",
        "original_array = np.array([[1, 2, 3], [4, 5, 6]])\n",
        "\n",
        "# Create a new array with the same shape, filled with zeros\n",
        "zero_array = np.zeros_like(original_array)\n",
        "\n",
        "print(zero_array)"
      ],
      "metadata": {
        "colab": {
          "base_uri": "https://localhost:8080/"
        },
        "id": "TotpDEGJZT7l",
        "outputId": "6cae9162-a7b4-4337-9333-c4c4c49a1fda"
      },
      "execution_count": 61,
      "outputs": [
        {
          "output_type": "stream",
          "name": "stdout",
          "text": [
            "[[0 0 0]\n",
            " [0 0 0]]\n"
          ]
        }
      ]
    },
    {
      "cell_type": "code",
      "source": [
        "np.zeros_like(arr)"
      ],
      "metadata": {
        "colab": {
          "base_uri": "https://localhost:8080/"
        },
        "id": "Shc20ZzTZnQy",
        "outputId": "696a6409-5701-4ffb-a71b-da59d9c680d1"
      },
      "execution_count": 62,
      "outputs": [
        {
          "output_type": "execute_result",
          "data": {
            "text/plain": [
              "array([0., 0., 0.], dtype=float32)"
            ]
          },
          "metadata": {},
          "execution_count": 62
        }
      ]
    },
    {
      "cell_type": "code",
      "source": [
        "#numpy.ones_like():- It is a function creates a new array with the same shape as the input array, filled with ones.\n",
        "\n",
        "# Create an example array\n",
        "original_array = np.array([[1, 2, 3], [4, 5, 6]])\n",
        "\n",
        "# Create a new array with the same shape, filled with ones\n",
        "one_array = np.ones_like(original_array)\n",
        "\n",
        "print(one_array)"
      ],
      "metadata": {
        "colab": {
          "base_uri": "https://localhost:8080/"
        },
        "id": "GsFlfNONZxGG",
        "outputId": "3c4edf57-c786-4516-a694-ea4c31a5fec1"
      },
      "execution_count": 63,
      "outputs": [
        {
          "output_type": "stream",
          "name": "stdout",
          "text": [
            "[[1 1 1]\n",
            " [1 1 1]]\n"
          ]
        }
      ]
    },
    {
      "cell_type": "code",
      "source": [
        "#iteration:-To perform an opertaion on a thing number of times\n",
        "\n",
        "#Using a for loop:-\n",
        "arr = np.array([1, 2, 3, 4, 5])\n",
        "\n",
        "for element in arr:\n",
        "    print(element)"
      ],
      "metadata": {
        "colab": {
          "base_uri": "https://localhost:8080/"
        },
        "id": "VH0cf8mpaTOO",
        "outputId": "fe52a48d-38d4-4886-b5d9-03213d00fca1"
      },
      "execution_count": 64,
      "outputs": [
        {
          "output_type": "stream",
          "name": "stdout",
          "text": [
            "1\n",
            "2\n",
            "3\n",
            "4\n",
            "5\n"
          ]
        }
      ]
    },
    {
      "cell_type": "code",
      "source": [
        "#Using list comprehensions:-\n",
        "arr = np.array([1, 2, 3, 4, 5])\n",
        "\n",
        "squared_elements = [x**2 for x in arr]\n",
        "print(squared_elements)"
      ],
      "metadata": {
        "colab": {
          "base_uri": "https://localhost:8080/"
        },
        "id": "d7Mo5fJfa5qT",
        "outputId": "f3cca2de-d544-4a2c-8f5d-4317bd184e6f"
      },
      "execution_count": 65,
      "outputs": [
        {
          "output_type": "stream",
          "name": "stdout",
          "text": [
            "[1, 4, 9, 16, 25]\n"
          ]
        }
      ]
    },
    {
      "cell_type": "code",
      "source": [
        "#Using NumPy functions for element-wise operations:-\n",
        "\n",
        "arr = np.array([1, 2, 3, 4, 5])\n",
        "\n",
        "squared_elements = np.square(arr)\n",
        "print(squared_elements)"
      ],
      "metadata": {
        "colab": {
          "base_uri": "https://localhost:8080/"
        },
        "id": "F5JenascbBb_",
        "outputId": "f11add12-f66f-4139-b7ff-5ae3b47caf25"
      },
      "execution_count": 66,
      "outputs": [
        {
          "output_type": "stream",
          "name": "stdout",
          "text": [
            "[ 1  4  9 16 25]\n"
          ]
        }
      ]
    },
    {
      "cell_type": "code",
      "source": [
        "#Using NumPy functions for iteration\n",
        "\n",
        "arr = np.array([[1, 2], [3, 4]])\n",
        "\n",
        "for x in np.nditer(arr):\n",
        "    print(x)"
      ],
      "metadata": {
        "colab": {
          "base_uri": "https://localhost:8080/"
        },
        "id": "Bz6eR4ZybKLF",
        "outputId": "acad368d-d2a0-460d-c15f-168f9361f953"
      },
      "execution_count": 67,
      "outputs": [
        {
          "output_type": "stream",
          "name": "stdout",
          "text": [
            "1\n",
            "2\n",
            "3\n",
            "4\n"
          ]
        }
      ]
    },
    {
      "cell_type": "code",
      "source": [
        "#combinig two arrays together:-\n",
        "#numpy.concatenate(): This function combines two or more arrays along an existing axis. You can specify the axis along which the concatenation should occur.\n",
        "\n",
        "arr1 = np.array([1, 2, 3])\n",
        "arr2 = np.array([4, 5, 6])\n",
        "\n",
        "# Concatenate along the default axis (axis=0, row-wise)\n",
        "combined = np.concatenate((arr1, arr2))\n",
        "\n",
        "print(combined)"
      ],
      "metadata": {
        "colab": {
          "base_uri": "https://localhost:8080/"
        },
        "id": "E90yScVUbOr7",
        "outputId": "8b731be0-42b1-4cda-a5bd-643485e5da07"
      },
      "execution_count": 68,
      "outputs": [
        {
          "output_type": "stream",
          "name": "stdout",
          "text": [
            "[1 2 3 4 5 6]\n"
          ]
        }
      ]
    },
    {
      "cell_type": "code",
      "source": [
        "#numpy.vstack() and numpy.hstack(): These functions are used to vertically stack (vstack) or horizontally stack (hstack) arrays. They work well when you want to stack arrays together along different axes.\n",
        "\n",
        "arr1 = np.array([1, 2, 3])\n",
        "arr2 = np.array([4, 5, 6])\n",
        "\n",
        "# Vertically stack arrays\n",
        "vertically_stacked = np.vstack((arr1, arr2))\n",
        "\n",
        "# Horizontally stack arrays\n",
        "horizontally_stacked = np.hstack((arr1, arr2))\n",
        "\n",
        "print(\"Vertically stacked:\")\n",
        "print(vertically_stacked)\n",
        "\n",
        "print(\"Horizontally stacked:\")\n",
        "print(horizontally_stacked)"
      ],
      "metadata": {
        "colab": {
          "base_uri": "https://localhost:8080/"
        },
        "id": "MZjKNwRbbluR",
        "outputId": "6a0a917e-6097-4dcf-a6ce-ada026172d77"
      },
      "execution_count": 69,
      "outputs": [
        {
          "output_type": "stream",
          "name": "stdout",
          "text": [
            "Vertically stacked:\n",
            "[[1 2 3]\n",
            " [4 5 6]]\n",
            "Horizontally stacked:\n",
            "[1 2 3 4 5 6]\n"
          ]
        }
      ]
    },
    {
      "cell_type": "code",
      "source": [
        "#numpy.stack(): This function is used to stack arrays along a new axis, creating a new dimension in the result.\n",
        "\n",
        "arr1 = np.array([1, 2, 3])\n",
        "arr2 = np.array([4, 5, 6])\n",
        "\n",
        "# Stack arrays along a new axis (axis=0)\n",
        "stacked = np.stack((arr1, arr2), axis=0)\n",
        "\n",
        "print(stacked)"
      ],
      "metadata": {
        "colab": {
          "base_uri": "https://localhost:8080/"
        },
        "id": "61sLZiSObs8T",
        "outputId": "8b4f42ce-804c-4fa1-cb90-64759321f381"
      },
      "execution_count": 70,
      "outputs": [
        {
          "output_type": "stream",
          "name": "stdout",
          "text": [
            "[[1 2 3]\n",
            " [4 5 6]]\n"
          ]
        }
      ]
    },
    {
      "cell_type": "code",
      "source": [
        "#numpy.column_stack() and numpy.row_stack(): These functions are similar to hstack and vstack, respectively, but they create a 2D array by stacking 1D arrays.\n",
        "\n",
        "arr1 = np.array([1, 2, 3])\n",
        "arr2 = np.array([4, 5, 6])\n",
        "\n",
        "# Stack arrays as columns\n",
        "column_stacked = np.column_stack((arr1, arr2))\n",
        "\n",
        "# Stack arrays as rows\n",
        "row_stacked = np.row_stack((arr1, arr2))\n",
        "\n",
        "print(\"Column stacked:\")\n",
        "print(column_stacked)\n",
        "\n",
        "print(\"Row stacked:\")\n",
        "print(row_stacked)"
      ],
      "metadata": {
        "colab": {
          "base_uri": "https://localhost:8080/"
        },
        "id": "wAvktWk1b2pU",
        "outputId": "ed11d325-c1c7-403f-b1fe-59dc5cd37c76"
      },
      "execution_count": 71,
      "outputs": [
        {
          "output_type": "stream",
          "name": "stdout",
          "text": [
            "Column stacked:\n",
            "[[1 4]\n",
            " [2 5]\n",
            " [3 6]]\n",
            "Row stacked:\n",
            "[[1 2 3]\n",
            " [4 5 6]]\n"
          ]
        }
      ]
    },
    {
      "cell_type": "code",
      "source": [
        "#splitting\n",
        "#numpy.split(), numpy.hsplit(), and numpy.vsplit() functions. These functions allow you to divide an array along specified axes or at specific positions.\n",
        "\n",
        "arr = np.array([1, 2, 3, 4, 5, 6])\n",
        "\n",
        "# Split the array into 3 equal sub-arrays along axis 0 (row-wise)\n",
        "sub_arrays = np.split(arr, 3)\n",
        "\n",
        "print(sub_arrays)\n"
      ],
      "metadata": {
        "colab": {
          "base_uri": "https://localhost:8080/"
        },
        "id": "YS9ne_vab8J4",
        "outputId": "8b92737c-7700-412b-96e4-c92f9565b90b"
      },
      "execution_count": 72,
      "outputs": [
        {
          "output_type": "stream",
          "name": "stdout",
          "text": [
            "[array([1, 2]), array([3, 4]), array([5, 6])]\n"
          ]
        }
      ]
    },
    {
      "cell_type": "code",
      "source": [
        "arr = np.array([[1, 2, 3], [4, 5, 6]])\n",
        "\n",
        "# Split the array into 3 equal sub-arrays along columns (column-wise)\n",
        "sub_arrays = np.hsplit(arr, 3)\n",
        "\n",
        "print(sub_arrays)"
      ],
      "metadata": {
        "colab": {
          "base_uri": "https://localhost:8080/"
        },
        "id": "e5Sz5c7U4svb",
        "outputId": "7d66bb27-adde-46fc-ea72-dfaeab3d7a35"
      },
      "execution_count": 73,
      "outputs": [
        {
          "output_type": "stream",
          "name": "stdout",
          "text": [
            "[array([[1],\n",
            "       [4]]), array([[2],\n",
            "       [5]]), array([[3],\n",
            "       [6]])]\n"
          ]
        }
      ]
    },
    {
      "cell_type": "code",
      "source": [
        "arr = np.array([[1, 2, 3], [4, 5, 6], [7, 8, 9]])\n",
        "\n",
        "# Split the array into 3 equal sub-arrays along rows (row-wise)\n",
        "sub_arrays = np.vsplit(arr, 3)\n",
        "\n",
        "print(sub_arrays)"
      ],
      "metadata": {
        "colab": {
          "base_uri": "https://localhost:8080/"
        },
        "id": "9UgrhDLB4t8T",
        "outputId": "3ba73890-6c9a-44a9-bd18-5cfd19a725a5"
      },
      "execution_count": 74,
      "outputs": [
        {
          "output_type": "stream",
          "name": "stdout",
          "text": [
            "[array([[1, 2, 3]]), array([[4, 5, 6]]), array([[7, 8, 9]])]\n"
          ]
        }
      ]
    },
    {
      "cell_type": "code",
      "source": [],
      "metadata": {
        "id": "dypeH5xG5I5N"
      },
      "execution_count": null,
      "outputs": []
    }
  ]
}